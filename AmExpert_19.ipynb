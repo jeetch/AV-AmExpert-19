{
  "nbformat": 4,
  "nbformat_minor": 0,
  "metadata": {
    "colab": {
      "name": "AmExpert-19",
      "provenance": [],
      "machine_shape": "hm"
    },
    "kernelspec": {
      "name": "python3",
      "display_name": "Python 3"
    }
  },
  "cells": [
    {
      "cell_type": "markdown",
      "metadata": {
        "id": "iXJ7wTbx5kcy",
        "colab_type": "text"
      },
      "source": [
        "## AmExpert 19"
      ]
    },
    {
      "cell_type": "code",
      "metadata": {
        "id": "Lv2Cd0ibRFZy",
        "colab_type": "code",
        "colab": {}
      },
      "source": [
        "import pandas as pd\n",
        "import numpy as np\n",
        "import pandas_profiling\n",
        "import seaborn as sns\n",
        "import matplotlib.pyplot as plt\n",
        "%matplotlib inline\n",
        "from scipy import stats\n",
        "import numpy as np\n",
        "from sklearn.preprocessing import LabelEncoder"
      ],
      "execution_count": 0,
      "outputs": []
    },
    {
      "cell_type": "code",
      "metadata": {
        "id": "aLvZzKTLRL83",
        "colab_type": "code",
        "outputId": "bca3d57b-028c-49d1-ffdb-0a3230b4c401",
        "colab": {
          "base_uri": "https://localhost:8080/",
          "height": 34
        }
      },
      "source": [
        "from google.colab import drive\n",
        "drive.mount('/content/drive')"
      ],
      "execution_count": 186,
      "outputs": [
        {
          "output_type": "stream",
          "text": [
            "Drive already mounted at /content/drive; to attempt to forcibly remount, call drive.mount(\"/content/drive\", force_remount=True).\n"
          ],
          "name": "stdout"
        }
      ]
    },
    {
      "cell_type": "code",
      "metadata": {
        "id": "tFsKkJzLRN6z",
        "colab_type": "code",
        "colab": {}
      },
      "source": [
        "test = pd.read_csv('/content/drive/My Drive/DS Projects/AmExpert-19/test.csv')\n",
        "train = pd.read_csv('/content/drive/My Drive/DS Projects/AmExpert-19/train.csv')\n",
        "campaign_data = pd.read_csv('/content/drive/My Drive/DS Projects/AmExpert-19/campaign_data.csv')\n",
        "coupon_item_mapping =  pd.read_csv('/content/drive/My Drive/DS Projects/AmExpert-19/coupon_item_mapping.csv')\n",
        "customer_demographics = pd.read_csv('/content/drive/My Drive/DS Projects/AmExpert-19/customer_demographics.csv')\n",
        "transactions =  pd.read_csv('/content/drive/My Drive/DS Projects/AmExpert-19/customer_transaction_data.csv')\n",
        "item_data =  pd.read_csv('/content/drive/My Drive/DS Projects/AmExpert-19/item_data.csv')\n"
      ],
      "execution_count": 0,
      "outputs": []
    },
    {
      "cell_type": "code",
      "metadata": {
        "id": "hLym7nuqNdoN",
        "colab_type": "code",
        "outputId": "e49f77d8-f10c-4f46-a506-b98b19301467",
        "colab": {
          "base_uri": "https://localhost:8080/",
          "height": 158
        }
      },
      "source": [
        "customer_transaction_data.nunique()"
      ],
      "execution_count": 188,
      "outputs": [
        {
          "output_type": "execute_result",
          "data": {
            "text/plain": [
              "date                 549\n",
              "customer_id         1582\n",
              "item_id            74063\n",
              "quantity            9252\n",
              "selling_price       4923\n",
              "other_discount      1418\n",
              "coupon_discount      232\n",
              "dtype: int64"
            ]
          },
          "metadata": {
            "tags": []
          },
          "execution_count": 188
        }
      ]
    },
    {
      "cell_type": "code",
      "metadata": {
        "id": "krG9wS-LShVg",
        "colab_type": "code",
        "outputId": "1570b62c-a4bf-4df0-df01-0b4ab1ed763d",
        "colab": {
          "base_uri": "https://localhost:8080/",
          "height": 34
        }
      },
      "source": [
        "test.shape,train.shape"
      ],
      "execution_count": 189,
      "outputs": [
        {
          "output_type": "execute_result",
          "data": {
            "text/plain": [
              "((50226, 4), (78369, 5))"
            ]
          },
          "metadata": {
            "tags": []
          },
          "execution_count": 189
        }
      ]
    },
    {
      "cell_type": "code",
      "metadata": {
        "id": "WKLTBoakSC2l",
        "colab_type": "code",
        "outputId": "89f24c78-5e40-4322-c9fe-df87f75560cb",
        "colab": {
          "base_uri": "https://localhost:8080/",
          "height": 123
        }
      },
      "source": [
        "df = train\n",
        "df.tail()\n",
        "df.nunique()"
      ],
      "execution_count": 190,
      "outputs": [
        {
          "output_type": "execute_result",
          "data": {
            "text/plain": [
              "id                   78369\n",
              "campaign_id             18\n",
              "coupon_id              866\n",
              "customer_id           1428\n",
              "redemption_status        2\n",
              "dtype: int64"
            ]
          },
          "metadata": {
            "tags": []
          },
          "execution_count": 190
        }
      ]
    },
    {
      "cell_type": "code",
      "metadata": {
        "id": "--9NMctjEetT",
        "colab_type": "code",
        "colab": {}
      },
      "source": [
        "test_ids = test['id'].values"
      ],
      "execution_count": 0,
      "outputs": []
    },
    {
      "cell_type": "code",
      "metadata": {
        "id": "wmU55IlKfrRj",
        "colab_type": "code",
        "colab": {
          "base_uri": "https://localhost:8080/",
          "height": 197
        },
        "outputId": "3cb6b324-c5b9-41ed-faa6-ee001dff026e"
      },
      "source": [
        "campaign_data.head()"
      ],
      "execution_count": 192,
      "outputs": [
        {
          "output_type": "execute_result",
          "data": {
            "text/html": [
              "<div>\n",
              "<style scoped>\n",
              "    .dataframe tbody tr th:only-of-type {\n",
              "        vertical-align: middle;\n",
              "    }\n",
              "\n",
              "    .dataframe tbody tr th {\n",
              "        vertical-align: top;\n",
              "    }\n",
              "\n",
              "    .dataframe thead th {\n",
              "        text-align: right;\n",
              "    }\n",
              "</style>\n",
              "<table border=\"1\" class=\"dataframe\">\n",
              "  <thead>\n",
              "    <tr style=\"text-align: right;\">\n",
              "      <th></th>\n",
              "      <th>campaign_id</th>\n",
              "      <th>campaign_type</th>\n",
              "      <th>start_date</th>\n",
              "      <th>end_date</th>\n",
              "    </tr>\n",
              "  </thead>\n",
              "  <tbody>\n",
              "    <tr>\n",
              "      <th>0</th>\n",
              "      <td>24</td>\n",
              "      <td>Y</td>\n",
              "      <td>21/10/13</td>\n",
              "      <td>20/12/13</td>\n",
              "    </tr>\n",
              "    <tr>\n",
              "      <th>1</th>\n",
              "      <td>25</td>\n",
              "      <td>Y</td>\n",
              "      <td>21/10/13</td>\n",
              "      <td>22/11/13</td>\n",
              "    </tr>\n",
              "    <tr>\n",
              "      <th>2</th>\n",
              "      <td>20</td>\n",
              "      <td>Y</td>\n",
              "      <td>07/09/13</td>\n",
              "      <td>16/11/13</td>\n",
              "    </tr>\n",
              "    <tr>\n",
              "      <th>3</th>\n",
              "      <td>23</td>\n",
              "      <td>Y</td>\n",
              "      <td>08/10/13</td>\n",
              "      <td>15/11/13</td>\n",
              "    </tr>\n",
              "    <tr>\n",
              "      <th>4</th>\n",
              "      <td>21</td>\n",
              "      <td>Y</td>\n",
              "      <td>16/09/13</td>\n",
              "      <td>18/10/13</td>\n",
              "    </tr>\n",
              "  </tbody>\n",
              "</table>\n",
              "</div>"
            ],
            "text/plain": [
              "   campaign_id campaign_type start_date  end_date\n",
              "0           24             Y   21/10/13  20/12/13\n",
              "1           25             Y   21/10/13  22/11/13\n",
              "2           20             Y   07/09/13  16/11/13\n",
              "3           23             Y   08/10/13  15/11/13\n",
              "4           21             Y   16/09/13  18/10/13"
            ]
          },
          "metadata": {
            "tags": []
          },
          "execution_count": 192
        }
      ]
    },
    {
      "cell_type": "code",
      "metadata": {
        "id": "j3p4cguigIRt",
        "colab_type": "code",
        "colab": {}
      },
      "source": [
        "## Convert start and end date to datetime\n",
        "\n",
        "dateparser = lambda x : pd.datetime.strptime(x,\"%d/%m/%y\")\n",
        "campaign_data['start_date'] = campaign_data['start_date'].apply(dateparser)\n",
        "campaign_data['end_date'] = campaign_data['end_date'].apply(dateparser)"
      ],
      "execution_count": 0,
      "outputs": []
    },
    {
      "cell_type": "code",
      "metadata": {
        "id": "_zkiD6a4a9yw",
        "colab_type": "code",
        "colab": {
          "base_uri": "https://localhost:8080/",
          "height": 264
        },
        "outputId": "16af689c-873e-4ba6-c259-470fce10860a"
      },
      "source": [
        "campaign_data['campaign_duration']= (campaign_data['end_date'] - campaign_data['start_date']).dt.days\n",
        "plt.hist(campaign_data['campaign_duration'])\n",
        "plt.show()"
      ],
      "execution_count": 194,
      "outputs": [
        {
          "output_type": "display_data",
          "data": {
            "image/png": "[encoded data removed]",
            "text/plain": [
              "<Figure size 432x288 with 1 Axes>"
            ]
          },
          "metadata": {
            "tags": []
          }
        }
      ]
    },
    {
      "cell_type": "code",
      "metadata": {
        "id": "4z7-WtZ9bghZ",
        "colab_type": "code",
        "colab": {
          "base_uri": "https://localhost:8080/",
          "height": 197
        },
        "outputId": "4edd1dc5-65ff-4cce-ee21-4da2a3412622"
      },
      "source": [
        "campaign_data.drop(['start_date','end_date'],axis =1, inplace = True)\n",
        "campaign_data.head()"
      ],
      "execution_count": 195,
      "outputs": [
        {
          "output_type": "execute_result",
          "data": {
            "text/html": [
              "<div>\n",
              "<style scoped>\n",
              "    .dataframe tbody tr th:only-of-type {\n",
              "        vertical-align: middle;\n",
              "    }\n",
              "\n",
              "    .dataframe tbody tr th {\n",
              "        vertical-align: top;\n",
              "    }\n",
              "\n",
              "    .dataframe thead th {\n",
              "        text-align: right;\n",
              "    }\n",
              "</style>\n",
              "<table border=\"1\" class=\"dataframe\">\n",
              "  <thead>\n",
              "    <tr style=\"text-align: right;\">\n",
              "      <th></th>\n",
              "      <th>campaign_id</th>\n",
              "      <th>campaign_type</th>\n",
              "      <th>campaign_duration</th>\n",
              "    </tr>\n",
              "  </thead>\n",
              "  <tbody>\n",
              "    <tr>\n",
              "      <th>0</th>\n",
              "      <td>24</td>\n",
              "      <td>Y</td>\n",
              "      <td>60</td>\n",
              "    </tr>\n",
              "    <tr>\n",
              "      <th>1</th>\n",
              "      <td>25</td>\n",
              "      <td>Y</td>\n",
              "      <td>32</td>\n",
              "    </tr>\n",
              "    <tr>\n",
              "      <th>2</th>\n",
              "      <td>20</td>\n",
              "      <td>Y</td>\n",
              "      <td>70</td>\n",
              "    </tr>\n",
              "    <tr>\n",
              "      <th>3</th>\n",
              "      <td>23</td>\n",
              "      <td>Y</td>\n",
              "      <td>38</td>\n",
              "    </tr>\n",
              "    <tr>\n",
              "      <th>4</th>\n",
              "      <td>21</td>\n",
              "      <td>Y</td>\n",
              "      <td>32</td>\n",
              "    </tr>\n",
              "  </tbody>\n",
              "</table>\n",
              "</div>"
            ],
            "text/plain": [
              "   campaign_id campaign_type  campaign_duration\n",
              "0           24             Y                 60\n",
              "1           25             Y                 32\n",
              "2           20             Y                 70\n",
              "3           23             Y                 38\n",
              "4           21             Y                 32"
            ]
          },
          "metadata": {
            "tags": []
          },
          "execution_count": 195
        }
      ]
    },
    {
      "cell_type": "code",
      "metadata": {
        "id": "YLbaaT8WcEKa",
        "colab_type": "code",
        "colab": {
          "base_uri": "https://localhost:8080/",
          "height": 197
        },
        "outputId": "c6466833-47d2-4022-bdcf-97d5c9dae9a4"
      },
      "source": [
        "le = LabelEncoder()\n",
        "campaign_data['campaign_type'] = le.fit_transform(campaign_data['campaign_type'])\n",
        "campaign_data.head()"
      ],
      "execution_count": 196,
      "outputs": [
        {
          "output_type": "execute_result",
          "data": {
            "text/html": [
              "<div>\n",
              "<style scoped>\n",
              "    .dataframe tbody tr th:only-of-type {\n",
              "        vertical-align: middle;\n",
              "    }\n",
              "\n",
              "    .dataframe tbody tr th {\n",
              "        vertical-align: top;\n",
              "    }\n",
              "\n",
              "    .dataframe thead th {\n",
              "        text-align: right;\n",
              "    }\n",
              "</style>\n",
              "<table border=\"1\" class=\"dataframe\">\n",
              "  <thead>\n",
              "    <tr style=\"text-align: right;\">\n",
              "      <th></th>\n",
              "      <th>campaign_id</th>\n",
              "      <th>campaign_type</th>\n",
              "      <th>campaign_duration</th>\n",
              "    </tr>\n",
              "  </thead>\n",
              "  <tbody>\n",
              "    <tr>\n",
              "      <th>0</th>\n",
              "      <td>24</td>\n",
              "      <td>1</td>\n",
              "      <td>60</td>\n",
              "    </tr>\n",
              "    <tr>\n",
              "      <th>1</th>\n",
              "      <td>25</td>\n",
              "      <td>1</td>\n",
              "      <td>32</td>\n",
              "    </tr>\n",
              "    <tr>\n",
              "      <th>2</th>\n",
              "      <td>20</td>\n",
              "      <td>1</td>\n",
              "      <td>70</td>\n",
              "    </tr>\n",
              "    <tr>\n",
              "      <th>3</th>\n",
              "      <td>23</td>\n",
              "      <td>1</td>\n",
              "      <td>38</td>\n",
              "    </tr>\n",
              "    <tr>\n",
              "      <th>4</th>\n",
              "      <td>21</td>\n",
              "      <td>1</td>\n",
              "      <td>32</td>\n",
              "    </tr>\n",
              "  </tbody>\n",
              "</table>\n",
              "</div>"
            ],
            "text/plain": [
              "   campaign_id  campaign_type  campaign_duration\n",
              "0           24              1                 60\n",
              "1           25              1                 32\n",
              "2           20              1                 70\n",
              "3           23              1                 38\n",
              "4           21              1                 32"
            ]
          },
          "metadata": {
            "tags": []
          },
          "execution_count": 196
        }
      ]
    },
    {
      "cell_type": "code",
      "metadata": {
        "id": "CmJ253Woc5Hm",
        "colab_type": "code",
        "colab": {
          "base_uri": "https://localhost:8080/",
          "height": 197
        },
        "outputId": "fca0a9a5-93ba-48f7-fa13-be1c08bae937"
      },
      "source": [
        "item_data.head()"
      ],
      "execution_count": 197,
      "outputs": [
        {
          "output_type": "execute_result",
          "data": {
            "text/html": [
              "<div>\n",
              "<style scoped>\n",
              "    .dataframe tbody tr th:only-of-type {\n",
              "        vertical-align: middle;\n",
              "    }\n",
              "\n",
              "    .dataframe tbody tr th {\n",
              "        vertical-align: top;\n",
              "    }\n",
              "\n",
              "    .dataframe thead th {\n",
              "        text-align: right;\n",
              "    }\n",
              "</style>\n",
              "<table border=\"1\" class=\"dataframe\">\n",
              "  <thead>\n",
              "    <tr style=\"text-align: right;\">\n",
              "      <th></th>\n",
              "      <th>item_id</th>\n",
              "      <th>brand</th>\n",
              "      <th>brand_type</th>\n",
              "      <th>category</th>\n",
              "    </tr>\n",
              "  </thead>\n",
              "  <tbody>\n",
              "    <tr>\n",
              "      <th>0</th>\n",
              "      <td>1</td>\n",
              "      <td>1</td>\n",
              "      <td>Established</td>\n",
              "      <td>Grocery</td>\n",
              "    </tr>\n",
              "    <tr>\n",
              "      <th>1</th>\n",
              "      <td>2</td>\n",
              "      <td>1</td>\n",
              "      <td>Established</td>\n",
              "      <td>Miscellaneous</td>\n",
              "    </tr>\n",
              "    <tr>\n",
              "      <th>2</th>\n",
              "      <td>3</td>\n",
              "      <td>56</td>\n",
              "      <td>Local</td>\n",
              "      <td>Bakery</td>\n",
              "    </tr>\n",
              "    <tr>\n",
              "      <th>3</th>\n",
              "      <td>4</td>\n",
              "      <td>56</td>\n",
              "      <td>Local</td>\n",
              "      <td>Grocery</td>\n",
              "    </tr>\n",
              "    <tr>\n",
              "      <th>4</th>\n",
              "      <td>5</td>\n",
              "      <td>56</td>\n",
              "      <td>Local</td>\n",
              "      <td>Grocery</td>\n",
              "    </tr>\n",
              "  </tbody>\n",
              "</table>\n",
              "</div>"
            ],
            "text/plain": [
              "   item_id  brand   brand_type       category\n",
              "0        1      1  Established        Grocery\n",
              "1        2      1  Established  Miscellaneous\n",
              "2        3     56        Local         Bakery\n",
              "3        4     56        Local        Grocery\n",
              "4        5     56        Local        Grocery"
            ]
          },
          "metadata": {
            "tags": []
          },
          "execution_count": 197
        }
      ]
    },
    {
      "cell_type": "code",
      "metadata": {
        "id": "-scXrgt7c-5A",
        "colab_type": "code",
        "colab": {
          "base_uri": "https://localhost:8080/",
          "height": 176
        },
        "outputId": "0b5926f9-72a2-4c25-b23b-abdb0d7ebc67"
      },
      "source": [
        "for col in item_data.columns[1:] : \n",
        "  print(f\"{col} : \\n \\t nunique : {item_data[col].nunique()} \\t unique : {item_data[col].unique()}\")"
      ],
      "execution_count": 198,
      "outputs": [
        {
          "output_type": "stream",
          "text": [
            "brand : \n",
            " \t nunique : 5528 \t unique : [   1   56   11 ... 5463 2997 3360]\n",
            "brand_type : \n",
            " \t nunique : 2 \t unique : ['Established' 'Local']\n",
            "category : \n",
            " \t nunique : 19 \t unique : ['Grocery' 'Miscellaneous' 'Bakery' 'Pharmaceutical' 'Packaged Meat'\n",
            " 'Seafood' 'Natural Products' 'Dairy, Juices & Snacks' 'Prepared Food'\n",
            " 'Skin & Hair Care' 'Meat' 'Travel' 'Flowers & Plants' 'Fuel' 'Salads'\n",
            " 'Alcohol' 'Garden' 'Restauarant' 'Vegetables (cut)']\n"
          ],
          "name": "stdout"
        }
      ]
    },
    {
      "cell_type": "code",
      "metadata": {
        "id": "XRHNVgwKduL2",
        "colab_type": "code",
        "colab": {}
      },
      "source": [
        "le = LabelEncoder()\n",
        "for col in ['brand_type','category'] : \n",
        "  item_data[col] = le.fit_transform(item_data[col])"
      ],
      "execution_count": 0,
      "outputs": []
    },
    {
      "cell_type": "code",
      "metadata": {
        "id": "9N0UJU3oeykd",
        "colab_type": "code",
        "colab": {
          "base_uri": "https://localhost:8080/",
          "height": 197
        },
        "outputId": "d1d44fed-7baf-40e0-9a47-1674d0b8326a"
      },
      "source": [
        "item_data.head()"
      ],
      "execution_count": 200,
      "outputs": [
        {
          "output_type": "execute_result",
          "data": {
            "text/html": [
              "<div>\n",
              "<style scoped>\n",
              "    .dataframe tbody tr th:only-of-type {\n",
              "        vertical-align: middle;\n",
              "    }\n",
              "\n",
              "    .dataframe tbody tr th {\n",
              "        vertical-align: top;\n",
              "    }\n",
              "\n",
              "    .dataframe thead th {\n",
              "        text-align: right;\n",
              "    }\n",
              "</style>\n",
              "<table border=\"1\" class=\"dataframe\">\n",
              "  <thead>\n",
              "    <tr style=\"text-align: right;\">\n",
              "      <th></th>\n",
              "      <th>item_id</th>\n",
              "      <th>brand</th>\n",
              "      <th>brand_type</th>\n",
              "      <th>category</th>\n",
              "    </tr>\n",
              "  </thead>\n",
              "  <tbody>\n",
              "    <tr>\n",
              "      <th>0</th>\n",
              "      <td>1</td>\n",
              "      <td>1</td>\n",
              "      <td>0</td>\n",
              "      <td>6</td>\n",
              "    </tr>\n",
              "    <tr>\n",
              "      <th>1</th>\n",
              "      <td>2</td>\n",
              "      <td>1</td>\n",
              "      <td>0</td>\n",
              "      <td>8</td>\n",
              "    </tr>\n",
              "    <tr>\n",
              "      <th>2</th>\n",
              "      <td>3</td>\n",
              "      <td>56</td>\n",
              "      <td>1</td>\n",
              "      <td>1</td>\n",
              "    </tr>\n",
              "    <tr>\n",
              "      <th>3</th>\n",
              "      <td>4</td>\n",
              "      <td>56</td>\n",
              "      <td>1</td>\n",
              "      <td>6</td>\n",
              "    </tr>\n",
              "    <tr>\n",
              "      <th>4</th>\n",
              "      <td>5</td>\n",
              "      <td>56</td>\n",
              "      <td>1</td>\n",
              "      <td>6</td>\n",
              "    </tr>\n",
              "  </tbody>\n",
              "</table>\n",
              "</div>"
            ],
            "text/plain": [
              "   item_id  brand  brand_type  category\n",
              "0        1      1           0         6\n",
              "1        2      1           0         8\n",
              "2        3     56           1         1\n",
              "3        4     56           1         6\n",
              "4        5     56           1         6"
            ]
          },
          "metadata": {
            "tags": []
          },
          "execution_count": 200
        }
      ]
    },
    {
      "cell_type": "code",
      "metadata": {
        "id": "7quJmdPvfClo",
        "colab_type": "code",
        "colab": {
          "base_uri": "https://localhost:8080/",
          "height": 197
        },
        "outputId": "afa57ca4-39a7-4fe4-bda0-07ec7e866194"
      },
      "source": [
        "customer_demographics.head()"
      ],
      "execution_count": 201,
      "outputs": [
        {
          "output_type": "execute_result",
          "data": {
            "text/html": [
              "<div>\n",
              "<style scoped>\n",
              "    .dataframe tbody tr th:only-of-type {\n",
              "        vertical-align: middle;\n",
              "    }\n",
              "\n",
              "    .dataframe tbody tr th {\n",
              "        vertical-align: top;\n",
              "    }\n",
              "\n",
              "    .dataframe thead th {\n",
              "        text-align: right;\n",
              "    }\n",
              "</style>\n",
              "<table border=\"1\" class=\"dataframe\">\n",
              "  <thead>\n",
              "    <tr style=\"text-align: right;\">\n",
              "      <th></th>\n",
              "      <th>customer_id</th>\n",
              "      <th>age_range</th>\n",
              "      <th>marital_status</th>\n",
              "      <th>rented</th>\n",
              "      <th>family_size</th>\n",
              "      <th>no_of_children</th>\n",
              "      <th>income_bracket</th>\n",
              "    </tr>\n",
              "  </thead>\n",
              "  <tbody>\n",
              "    <tr>\n",
              "      <th>0</th>\n",
              "      <td>1</td>\n",
              "      <td>70+</td>\n",
              "      <td>Married</td>\n",
              "      <td>0</td>\n",
              "      <td>2</td>\n",
              "      <td>NaN</td>\n",
              "      <td>4</td>\n",
              "    </tr>\n",
              "    <tr>\n",
              "      <th>1</th>\n",
              "      <td>6</td>\n",
              "      <td>46-55</td>\n",
              "      <td>Married</td>\n",
              "      <td>0</td>\n",
              "      <td>2</td>\n",
              "      <td>NaN</td>\n",
              "      <td>5</td>\n",
              "    </tr>\n",
              "    <tr>\n",
              "      <th>2</th>\n",
              "      <td>7</td>\n",
              "      <td>26-35</td>\n",
              "      <td>NaN</td>\n",
              "      <td>0</td>\n",
              "      <td>3</td>\n",
              "      <td>1</td>\n",
              "      <td>3</td>\n",
              "    </tr>\n",
              "    <tr>\n",
              "      <th>3</th>\n",
              "      <td>8</td>\n",
              "      <td>26-35</td>\n",
              "      <td>NaN</td>\n",
              "      <td>0</td>\n",
              "      <td>4</td>\n",
              "      <td>2</td>\n",
              "      <td>6</td>\n",
              "    </tr>\n",
              "    <tr>\n",
              "      <th>4</th>\n",
              "      <td>10</td>\n",
              "      <td>46-55</td>\n",
              "      <td>Single</td>\n",
              "      <td>0</td>\n",
              "      <td>1</td>\n",
              "      <td>NaN</td>\n",
              "      <td>5</td>\n",
              "    </tr>\n",
              "  </tbody>\n",
              "</table>\n",
              "</div>"
            ],
            "text/plain": [
              "   customer_id age_range  ... no_of_children  income_bracket\n",
              "0            1       70+  ...            NaN               4\n",
              "1            6     46-55  ...            NaN               5\n",
              "2            7     26-35  ...              1               3\n",
              "3            8     26-35  ...              2               6\n",
              "4           10     46-55  ...            NaN               5\n",
              "\n",
              "[5 rows x 7 columns]"
            ]
          },
          "metadata": {
            "tags": []
          },
          "execution_count": 201
        }
      ]
    },
    {
      "cell_type": "code",
      "metadata": {
        "id": "_hikNv08fGjE",
        "colab_type": "code",
        "colab": {
          "base_uri": "https://localhost:8080/",
          "height": 230
        },
        "outputId": "cb33303e-325d-4b1c-816d-206b2e1b7622"
      },
      "source": [
        "for col in customer_demographics.columns[1:] : \n",
        "  print(f\"{col} : \\n \\t nunique : {customer_demographics[col].nunique()} \\t unique : {customer_demographics[col].unique()}\")"
      ],
      "execution_count": 202,
      "outputs": [
        {
          "output_type": "stream",
          "text": [
            "age_range : \n",
            " \t nunique : 6 \t unique : ['70+' '46-55' '26-35' '36-45' '18-25' '56-70']\n",
            "marital_status : \n",
            " \t nunique : 2 \t unique : ['Married' nan 'Single']\n",
            "rented : \n",
            " \t nunique : 2 \t unique : [0 1]\n",
            "family_size : \n",
            " \t nunique : 5 \t unique : ['2' '3' '4' '1' '5+']\n",
            "no_of_children : \n",
            " \t nunique : 3 \t unique : [nan '1' '2' '3+']\n",
            "income_bracket : \n",
            " \t nunique : 12 \t unique : [ 4  5  3  6  1  7  2  8  9 12 10 11]\n"
          ],
          "name": "stdout"
        }
      ]
    },
    {
      "cell_type": "code",
      "metadata": {
        "id": "L6sGvaqNhIxn",
        "colab_type": "code",
        "colab": {
          "base_uri": "https://localhost:8080/",
          "height": 337
        },
        "outputId": "06345488-a6fb-430d-e83f-0f7b09df9323"
      },
      "source": [
        "sns.heatmap(customer_demographics.isnull())\n",
        "plt.show()"
      ],
      "execution_count": 203,
      "outputs": [
        {
          "output_type": "display_data",
          "data": {
            "image/png": "[encoded data removed]",
            "text/plain": [
              "<Figure size 432x288 with 2 Axes>"
            ]
          },
          "metadata": {
            "tags": []
          }
        }
      ]
    },
    {
      "cell_type": "code",
      "metadata": {
        "id": "6Z8kFiPLfVUn",
        "colab_type": "code",
        "colab": {}
      },
      "source": [
        "customer_demographics['no_of_children'].fillna('0',inplace=True)"
      ],
      "execution_count": 0,
      "outputs": []
    },
    {
      "cell_type": "code",
      "metadata": {
        "id": "vwtZvnDJg-TW",
        "colab_type": "code",
        "colab": {
          "base_uri": "https://localhost:8080/",
          "height": 105
        },
        "outputId": "3a964543-351e-4b8f-f2b6-2c67988042d9"
      },
      "source": [
        "customer_demographics['no_of_children'].value_counts()"
      ],
      "execution_count": 205,
      "outputs": [
        {
          "output_type": "execute_result",
          "data": {
            "text/plain": [
              "0     538\n",
              "1     107\n",
              "3+     60\n",
              "2      55\n",
              "Name: no_of_children, dtype: int64"
            ]
          },
          "metadata": {
            "tags": []
          },
          "execution_count": 205
        }
      ]
    },
    {
      "cell_type": "code",
      "metadata": {
        "id": "69XZs5fgkZZn",
        "colab_type": "code",
        "colab": {
          "base_uri": "https://localhost:8080/",
          "height": 34
        },
        "outputId": "74ad1b08-fb14-43a5-f70b-6b85a46c16ab"
      },
      "source": [
        "customer_demographics['no_of_children'].isnull().sum()"
      ],
      "execution_count": 206,
      "outputs": [
        {
          "output_type": "execute_result",
          "data": {
            "text/plain": [
              "0"
            ]
          },
          "metadata": {
            "tags": []
          },
          "execution_count": 206
        }
      ]
    },
    {
      "cell_type": "code",
      "metadata": {
        "id": "OmlNLOswhfYI",
        "colab_type": "code",
        "colab": {
          "base_uri": "https://localhost:8080/",
          "height": 34
        },
        "outputId": "20ddbaab-e763-49a7-b170-75e0f2701b19"
      },
      "source": [
        "customer_demographics['marital_status'].isnull().sum()"
      ],
      "execution_count": 207,
      "outputs": [
        {
          "output_type": "execute_result",
          "data": {
            "text/plain": [
              "329"
            ]
          },
          "metadata": {
            "tags": []
          },
          "execution_count": 207
        }
      ]
    },
    {
      "cell_type": "code",
      "metadata": {
        "id": "m9m7VwsZhpoc",
        "colab_type": "code",
        "colab": {
          "base_uri": "https://localhost:8080/",
          "height": 1000
        },
        "outputId": "a94b75a6-f37e-4e15-bc9a-62b9be381b23"
      },
      "source": [
        "fig,ax = plt.subplots(3,2,figsize=(16,15))\n",
        "ax = ax.flatten()\n",
        "ax_i = 0\n",
        "for col in customer_demographics.columns[1:]:\n",
        "    if col != 'marital_status':\n",
        "        sns.countplot(x=col,hue='marital_status',data=customer_demographics,ax=ax[ax_i])\n",
        "        ax_i = ax_i+1\n",
        "\n",
        "plt.tight_layout()\n",
        "plt.show()"
      ],
      "execution_count": 208,
      "outputs": [
        {
          "output_type": "display_data",
          "data": {
            "image/png": "[encoded data removed]",
            "text/plain": [
              "<Figure size 1152x1080 with 6 Axes>"
            ]
          },
          "metadata": {
            "tags": []
          }
        }
      ]
    },
    {
      "cell_type": "code",
      "metadata": {
        "id": "3N-bMjNti8aU",
        "colab_type": "code",
        "colab": {}
      },
      "source": [
        "customer_demographics.loc[customer_demographics['family_size']=='5+','family_size'] = 5\n",
        "customer_demographics.loc[customer_demographics['no_of_children']=='3+','no_of_children'] = 3\n",
        "\n",
        "customer_demographics['family_size'] = customer_demographics['family_size'].astype(int)\n",
        "customer_demographics['no_of_children'] = customer_demographics['no_of_children'].astype(int)"
      ],
      "execution_count": 0,
      "outputs": []
    },
    {
      "cell_type": "code",
      "metadata": {
        "id": "DOLKpgI2mtKk",
        "colab_type": "code",
        "colab": {
          "base_uri": "https://localhost:8080/",
          "height": 34
        },
        "outputId": "a89db6e2-cf11-43c4-a0c3-4ff5cf8f5d7a"
      },
      "source": [
        "customer_demographics['no_of_children'].unique()"
      ],
      "execution_count": 210,
      "outputs": [
        {
          "output_type": "execute_result",
          "data": {
            "text/plain": [
              "array([0, 1, 2, 3])"
            ]
          },
          "metadata": {
            "tags": []
          },
          "execution_count": 210
        }
      ]
    },
    {
      "cell_type": "code",
      "metadata": {
        "id": "uTzuDiYhnHhe",
        "colab_type": "code",
        "colab": {}
      },
      "source": [
        "customer_demographics.loc[customer_demographics['marital_status'].isnull() & \n",
        "            (customer_demographics['family_size'] - customer_demographics['no_of_children'] == 1), 'marital_status'] = 'Single'\n",
        "\n",
        "customer_demographics.loc[customer_demographics['marital_status'].isnull() & \n",
        "            (customer_demographics['family_size'] - customer_demographics['no_of_children'] == 2), 'marital_status'] = 'Married'"
      ],
      "execution_count": 0,
      "outputs": []
    },
    {
      "cell_type": "code",
      "metadata": {
        "id": "eX82073VG_K-",
        "colab_type": "code",
        "colab": {
          "base_uri": "https://localhost:8080/",
          "height": 34
        },
        "outputId": "f345f1dd-166f-410f-8e63-4f7be8478522"
      },
      "source": [
        "customer_demographics['marital_status'].unique()"
      ],
      "execution_count": 212,
      "outputs": [
        {
          "output_type": "execute_result",
          "data": {
            "text/plain": [
              "array(['Married', 'Single'], dtype=object)"
            ]
          },
          "metadata": {
            "tags": []
          },
          "execution_count": 212
        }
      ]
    },
    {
      "cell_type": "code",
      "metadata": {
        "id": "1ygXyE4fGUB7",
        "colab_type": "code",
        "colab": {}
      },
      "source": [
        "le = LabelEncoder()\n",
        "customer_demographics['marital_status'] = le.fit_transform(customer_demographics['marital_status'])"
      ],
      "execution_count": 0,
      "outputs": []
    },
    {
      "cell_type": "code",
      "metadata": {
        "id": "gJQGAgpRHq_b",
        "colab_type": "code",
        "colab": {}
      },
      "source": [
        "customer_demographics['age_range'] = customer_demographics['age_range'].str.replace('+','-70')\n",
        "customer_demographics['age_range'] = customer_demographics['age_range'].apply( lambda s : int((int(s[:2]) + int(s[-2:])) / 2) )"
      ],
      "execution_count": 0,
      "outputs": []
    },
    {
      "cell_type": "code",
      "metadata": {
        "id": "ZaLgbZ5QISKI",
        "colab_type": "code",
        "colab": {
          "base_uri": "https://localhost:8080/",
          "height": 230
        },
        "outputId": "4e93e0d3-ad8e-4c54-e323-99c20aa8dc53"
      },
      "source": [
        "customer_demographics.info()"
      ],
      "execution_count": 215,
      "outputs": [
        {
          "output_type": "stream",
          "text": [
            "<class 'pandas.core.frame.DataFrame'>\n",
            "RangeIndex: 760 entries, 0 to 759\n",
            "Data columns (total 7 columns):\n",
            "customer_id       760 non-null int64\n",
            "age_range         760 non-null int64\n",
            "marital_status    760 non-null int64\n",
            "rented            760 non-null int64\n",
            "family_size       760 non-null int64\n",
            "no_of_children    760 non-null int64\n",
            "income_bracket    760 non-null int64\n",
            "dtypes: int64(7)\n",
            "memory usage: 41.7 KB\n"
          ],
          "name": "stdout"
        }
      ]
    },
    {
      "cell_type": "code",
      "metadata": {
        "id": "Oj0vxPMiIYda",
        "colab_type": "code",
        "colab": {
          "base_uri": "https://localhost:8080/",
          "height": 197
        },
        "outputId": "04b7b646-b94f-416b-db9f-3c9f4ea39e5f"
      },
      "source": [
        "transactions.head()"
      ],
      "execution_count": 216,
      "outputs": [
        {
          "output_type": "execute_result",
          "data": {
            "text/html": [
              "<div>\n",
              "<style scoped>\n",
              "    .dataframe tbody tr th:only-of-type {\n",
              "        vertical-align: middle;\n",
              "    }\n",
              "\n",
              "    .dataframe tbody tr th {\n",
              "        vertical-align: top;\n",
              "    }\n",
              "\n",
              "    .dataframe thead th {\n",
              "        text-align: right;\n",
              "    }\n",
              "</style>\n",
              "<table border=\"1\" class=\"dataframe\">\n",
              "  <thead>\n",
              "    <tr style=\"text-align: right;\">\n",
              "      <th></th>\n",
              "      <th>date</th>\n",
              "      <th>customer_id</th>\n",
              "      <th>item_id</th>\n",
              "      <th>quantity</th>\n",
              "      <th>selling_price</th>\n",
              "      <th>other_discount</th>\n",
              "      <th>coupon_discount</th>\n",
              "    </tr>\n",
              "  </thead>\n",
              "  <tbody>\n",
              "    <tr>\n",
              "      <th>0</th>\n",
              "      <td>2012-01-02</td>\n",
              "      <td>1501</td>\n",
              "      <td>26830</td>\n",
              "      <td>1</td>\n",
              "      <td>35.26</td>\n",
              "      <td>-10.69</td>\n",
              "      <td>0.0</td>\n",
              "    </tr>\n",
              "    <tr>\n",
              "      <th>1</th>\n",
              "      <td>2012-01-02</td>\n",
              "      <td>1501</td>\n",
              "      <td>54253</td>\n",
              "      <td>1</td>\n",
              "      <td>53.43</td>\n",
              "      <td>-13.89</td>\n",
              "      <td>0.0</td>\n",
              "    </tr>\n",
              "    <tr>\n",
              "      <th>2</th>\n",
              "      <td>2012-01-02</td>\n",
              "      <td>1501</td>\n",
              "      <td>31962</td>\n",
              "      <td>1</td>\n",
              "      <td>106.50</td>\n",
              "      <td>-14.25</td>\n",
              "      <td>0.0</td>\n",
              "    </tr>\n",
              "    <tr>\n",
              "      <th>3</th>\n",
              "      <td>2012-01-02</td>\n",
              "      <td>1501</td>\n",
              "      <td>33647</td>\n",
              "      <td>1</td>\n",
              "      <td>67.32</td>\n",
              "      <td>0.00</td>\n",
              "      <td>0.0</td>\n",
              "    </tr>\n",
              "    <tr>\n",
              "      <th>4</th>\n",
              "      <td>2012-01-02</td>\n",
              "      <td>1501</td>\n",
              "      <td>48199</td>\n",
              "      <td>1</td>\n",
              "      <td>71.24</td>\n",
              "      <td>-28.14</td>\n",
              "      <td>0.0</td>\n",
              "    </tr>\n",
              "  </tbody>\n",
              "</table>\n",
              "</div>"
            ],
            "text/plain": [
              "         date  customer_id  ...  other_discount  coupon_discount\n",
              "0  2012-01-02         1501  ...          -10.69              0.0\n",
              "1  2012-01-02         1501  ...          -13.89              0.0\n",
              "2  2012-01-02         1501  ...          -14.25              0.0\n",
              "3  2012-01-02         1501  ...            0.00              0.0\n",
              "4  2012-01-02         1501  ...          -28.14              0.0\n",
              "\n",
              "[5 rows x 7 columns]"
            ]
          },
          "metadata": {
            "tags": []
          },
          "execution_count": 216
        }
      ]
    },
    {
      "cell_type": "code",
      "metadata": {
        "id": "qx9yzZ8SJuBq",
        "colab_type": "code",
        "colab": {}
      },
      "source": [
        "dateparser = lambda x : pd.datetime.strptime(x,\"%Y-%m-%d\")\n",
        "transactions['date'] = transactions['date'].apply(dateparser)"
      ],
      "execution_count": 0,
      "outputs": []
    },
    {
      "cell_type": "code",
      "metadata": {
        "id": "jjgVH9nLKNNW",
        "colab_type": "code",
        "colab": {
          "base_uri": "https://localhost:8080/",
          "height": 728
        },
        "outputId": "5751dc54-c49f-4691-c769-240906a5e0ba"
      },
      "source": [
        "fig,ax = plt.subplots(2,2,figsize=(16,10))\n",
        "ax = ax.flatten()\n",
        "for i,col in enumerate(['quantity', 'selling_price', 'other_discount', 'coupon_discount']):\n",
        "    sns.distplot(transactions[col],ax=ax[i])\n",
        "plt.tight_layout()\n",
        "plt.show()"
      ],
      "execution_count": 218,
      "outputs": [
        {
          "output_type": "display_data",
          "data": {
            "image/png": "[encoded data removed]",
            "text/plain": [
              "<Figure size 1152x720 with 4 Axes>"
            ]
          },
          "metadata": {
            "tags": []
          }
        }
      ]
    },
    {
      "cell_type": "code",
      "metadata": {
        "id": "Z-vZU5X2MSP5",
        "colab_type": "code",
        "colab": {
          "base_uri": "https://localhost:8080/",
          "height": 340
        },
        "outputId": "1fc4cce6-644e-4c87-9723-18cfe57e6ea7"
      },
      "source": [
        "campaign_features = pd.concat([train,test]).groupby('campaign_id').agg({'coupon_id':pd.Series.nunique,'customer_id':pd.Series.nunique})\n",
        "campaign_features.rename(columns={'coupon_id':'coupons_nunique', 'customer_id':'customers_nunique'},inplace=True)\n",
        "\n",
        "campaign_features = pd.merge(campaign_data, campaign_features, on='campaign_id', how='inner')\n",
        "campaign_features.head()"
      ],
      "execution_count": 219,
      "outputs": [
        {
          "output_type": "stream",
          "text": [
            "/usr/local/lib/python3.6/dist-packages/ipykernel_launcher.py:1: FutureWarning: Sorting because non-concatenation axis is not aligned. A future version\n",
            "of pandas will change to not sort by default.\n",
            "\n",
            "To accept the future behavior, pass 'sort=False'.\n",
            "\n",
            "To retain the current behavior and silence the warning, pass 'sort=True'.\n",
            "\n",
            "  \"\"\"Entry point for launching an IPython kernel.\n"
          ],
          "name": "stderr"
        },
        {
          "output_type": "execute_result",
          "data": {
            "text/html": [
              "<div>\n",
              "<style scoped>\n",
              "    .dataframe tbody tr th:only-of-type {\n",
              "        vertical-align: middle;\n",
              "    }\n",
              "\n",
              "    .dataframe tbody tr th {\n",
              "        vertical-align: top;\n",
              "    }\n",
              "\n",
              "    .dataframe thead th {\n",
              "        text-align: right;\n",
              "    }\n",
              "</style>\n",
              "<table border=\"1\" class=\"dataframe\">\n",
              "  <thead>\n",
              "    <tr style=\"text-align: right;\">\n",
              "      <th></th>\n",
              "      <th>campaign_id</th>\n",
              "      <th>campaign_type</th>\n",
              "      <th>campaign_duration</th>\n",
              "      <th>coupons_nunique</th>\n",
              "      <th>customers_nunique</th>\n",
              "    </tr>\n",
              "  </thead>\n",
              "  <tbody>\n",
              "    <tr>\n",
              "      <th>0</th>\n",
              "      <td>24</td>\n",
              "      <td>1</td>\n",
              "      <td>60</td>\n",
              "      <td>2</td>\n",
              "      <td>100</td>\n",
              "    </tr>\n",
              "    <tr>\n",
              "      <th>1</th>\n",
              "      <td>25</td>\n",
              "      <td>1</td>\n",
              "      <td>32</td>\n",
              "      <td>17</td>\n",
              "      <td>187</td>\n",
              "    </tr>\n",
              "    <tr>\n",
              "      <th>2</th>\n",
              "      <td>20</td>\n",
              "      <td>1</td>\n",
              "      <td>70</td>\n",
              "      <td>24</td>\n",
              "      <td>244</td>\n",
              "    </tr>\n",
              "    <tr>\n",
              "      <th>3</th>\n",
              "      <td>23</td>\n",
              "      <td>1</td>\n",
              "      <td>38</td>\n",
              "      <td>18</td>\n",
              "      <td>183</td>\n",
              "    </tr>\n",
              "    <tr>\n",
              "      <th>4</th>\n",
              "      <td>21</td>\n",
              "      <td>1</td>\n",
              "      <td>32</td>\n",
              "      <td>16</td>\n",
              "      <td>65</td>\n",
              "    </tr>\n",
              "  </tbody>\n",
              "</table>\n",
              "</div>"
            ],
            "text/plain": [
              "   campaign_id  campaign_type  ...  coupons_nunique  customers_nunique\n",
              "0           24              1  ...                2                100\n",
              "1           25              1  ...               17                187\n",
              "2           20              1  ...               24                244\n",
              "3           23              1  ...               18                183\n",
              "4           21              1  ...               16                 65\n",
              "\n",
              "[5 rows x 5 columns]"
            ]
          },
          "metadata": {
            "tags": []
          },
          "execution_count": 219
        }
      ]
    },
    {
      "cell_type": "code",
      "metadata": {
        "id": "2Hmg6n2zM-Hb",
        "colab_type": "code",
        "colab": {
          "base_uri": "https://localhost:8080/",
          "height": 197
        },
        "outputId": "fd6e7626-62c5-4f6f-9c8b-24e82a497302"
      },
      "source": [
        "coupon_items = pd.merge(coupon_item_mapping, item_data, on='item_id', how='inner')\n",
        "coupon_items.head()"
      ],
      "execution_count": 220,
      "outputs": [
        {
          "output_type": "execute_result",
          "data": {
            "text/html": [
              "<div>\n",
              "<style scoped>\n",
              "    .dataframe tbody tr th:only-of-type {\n",
              "        vertical-align: middle;\n",
              "    }\n",
              "\n",
              "    .dataframe tbody tr th {\n",
              "        vertical-align: top;\n",
              "    }\n",
              "\n",
              "    .dataframe thead th {\n",
              "        text-align: right;\n",
              "    }\n",
              "</style>\n",
              "<table border=\"1\" class=\"dataframe\">\n",
              "  <thead>\n",
              "    <tr style=\"text-align: right;\">\n",
              "      <th></th>\n",
              "      <th>coupon_id</th>\n",
              "      <th>item_id</th>\n",
              "      <th>brand</th>\n",
              "      <th>brand_type</th>\n",
              "      <th>category</th>\n",
              "    </tr>\n",
              "  </thead>\n",
              "  <tbody>\n",
              "    <tr>\n",
              "      <th>0</th>\n",
              "      <td>105</td>\n",
              "      <td>37</td>\n",
              "      <td>56</td>\n",
              "      <td>1</td>\n",
              "      <td>6</td>\n",
              "    </tr>\n",
              "    <tr>\n",
              "      <th>1</th>\n",
              "      <td>6</td>\n",
              "      <td>37</td>\n",
              "      <td>56</td>\n",
              "      <td>1</td>\n",
              "      <td>6</td>\n",
              "    </tr>\n",
              "    <tr>\n",
              "      <th>2</th>\n",
              "      <td>22</td>\n",
              "      <td>37</td>\n",
              "      <td>56</td>\n",
              "      <td>1</td>\n",
              "      <td>6</td>\n",
              "    </tr>\n",
              "    <tr>\n",
              "      <th>3</th>\n",
              "      <td>31</td>\n",
              "      <td>37</td>\n",
              "      <td>56</td>\n",
              "      <td>1</td>\n",
              "      <td>6</td>\n",
              "    </tr>\n",
              "    <tr>\n",
              "      <th>4</th>\n",
              "      <td>107</td>\n",
              "      <td>75</td>\n",
              "      <td>56</td>\n",
              "      <td>1</td>\n",
              "      <td>6</td>\n",
              "    </tr>\n",
              "  </tbody>\n",
              "</table>\n",
              "</div>"
            ],
            "text/plain": [
              "   coupon_id  item_id  brand  brand_type  category\n",
              "0        105       37     56           1         6\n",
              "1          6       37     56           1         6\n",
              "2         22       37     56           1         6\n",
              "3         31       37     56           1         6\n",
              "4        107       75     56           1         6"
            ]
          },
          "metadata": {
            "tags": []
          },
          "execution_count": 220
        }
      ]
    },
    {
      "cell_type": "code",
      "metadata": {
        "id": "NNZ6SW5RSN3C",
        "colab_type": "code",
        "colab": {
          "base_uri": "https://localhost:8080/",
          "height": 197
        },
        "outputId": "3833a877-2b93-4025-941a-e3a4d0756a5e"
      },
      "source": [
        "num_unique = pd.Series.nunique\n",
        "aggfunc = {'item_id':num_unique, 'brand': num_unique, 'category':num_unique, 'brand_type':'mean'}\n",
        "coupons = coupon_items.groupby('coupon_id').agg(aggfunc).reset_index()\n",
        "coupons.rename(columns={'item_id':'coupon_item_nunique', 'brand':'coupon_brand_nunique',\n",
        "                        'brand_type':'coupon_established_mean', \n",
        "                        'category':'coupon_category_nunique'},inplace=True)\n",
        "coupons.head()"
      ],
      "execution_count": 222,
      "outputs": [
        {
          "output_type": "execute_result",
          "data": {
            "text/html": [
              "<div>\n",
              "<style scoped>\n",
              "    .dataframe tbody tr th:only-of-type {\n",
              "        vertical-align: middle;\n",
              "    }\n",
              "\n",
              "    .dataframe tbody tr th {\n",
              "        vertical-align: top;\n",
              "    }\n",
              "\n",
              "    .dataframe thead th {\n",
              "        text-align: right;\n",
              "    }\n",
              "</style>\n",
              "<table border=\"1\" class=\"dataframe\">\n",
              "  <thead>\n",
              "    <tr style=\"text-align: right;\">\n",
              "      <th></th>\n",
              "      <th>coupon_id</th>\n",
              "      <th>coupon_item_nunique</th>\n",
              "      <th>coupon_brand_nunique</th>\n",
              "      <th>coupon_category_nunique</th>\n",
              "      <th>coupon_established_mean</th>\n",
              "    </tr>\n",
              "  </thead>\n",
              "  <tbody>\n",
              "    <tr>\n",
              "      <th>0</th>\n",
              "      <td>1</td>\n",
              "      <td>39</td>\n",
              "      <td>3</td>\n",
              "      <td>2</td>\n",
              "      <td>0.0</td>\n",
              "    </tr>\n",
              "    <tr>\n",
              "      <th>1</th>\n",
              "      <td>2</td>\n",
              "      <td>2</td>\n",
              "      <td>1</td>\n",
              "      <td>1</td>\n",
              "      <td>0.0</td>\n",
              "    </tr>\n",
              "    <tr>\n",
              "      <th>2</th>\n",
              "      <td>3</td>\n",
              "      <td>17</td>\n",
              "      <td>2</td>\n",
              "      <td>1</td>\n",
              "      <td>0.0</td>\n",
              "    </tr>\n",
              "    <tr>\n",
              "      <th>3</th>\n",
              "      <td>4</td>\n",
              "      <td>24</td>\n",
              "      <td>1</td>\n",
              "      <td>1</td>\n",
              "      <td>0.0</td>\n",
              "    </tr>\n",
              "    <tr>\n",
              "      <th>4</th>\n",
              "      <td>5</td>\n",
              "      <td>7</td>\n",
              "      <td>1</td>\n",
              "      <td>1</td>\n",
              "      <td>0.0</td>\n",
              "    </tr>\n",
              "  </tbody>\n",
              "</table>\n",
              "</div>"
            ],
            "text/plain": [
              "   coupon_id  ...  coupon_established_mean\n",
              "0          1  ...                      0.0\n",
              "1          2  ...                      0.0\n",
              "2          3  ...                      0.0\n",
              "3          4  ...                      0.0\n",
              "4          5  ...                      0.0\n",
              "\n",
              "[5 rows x 5 columns]"
            ]
          },
          "metadata": {
            "tags": []
          },
          "execution_count": 222
        }
      ]
    },
    {
      "cell_type": "code",
      "metadata": {
        "id": "b27fdMk_N_DV",
        "colab_type": "code",
        "colab": {
          "base_uri": "https://localhost:8080/",
          "height": 197
        },
        "outputId": "93d10196-2de8-4817-da00-e45902066337"
      },
      "source": [
        "transaction_items = pd.merge(transactions, item_data, on='item_id', how='inner')\n",
        "transaction_items.head()"
      ],
      "execution_count": 223,
      "outputs": [
        {
          "output_type": "execute_result",
          "data": {
            "text/html": [
              "<div>\n",
              "<style scoped>\n",
              "    .dataframe tbody tr th:only-of-type {\n",
              "        vertical-align: middle;\n",
              "    }\n",
              "\n",
              "    .dataframe tbody tr th {\n",
              "        vertical-align: top;\n",
              "    }\n",
              "\n",
              "    .dataframe thead th {\n",
              "        text-align: right;\n",
              "    }\n",
              "</style>\n",
              "<table border=\"1\" class=\"dataframe\">\n",
              "  <thead>\n",
              "    <tr style=\"text-align: right;\">\n",
              "      <th></th>\n",
              "      <th>date</th>\n",
              "      <th>customer_id</th>\n",
              "      <th>item_id</th>\n",
              "      <th>quantity</th>\n",
              "      <th>selling_price</th>\n",
              "      <th>other_discount</th>\n",
              "      <th>coupon_discount</th>\n",
              "      <th>brand</th>\n",
              "      <th>brand_type</th>\n",
              "      <th>category</th>\n",
              "    </tr>\n",
              "  </thead>\n",
              "  <tbody>\n",
              "    <tr>\n",
              "      <th>0</th>\n",
              "      <td>2012-01-02</td>\n",
              "      <td>1501</td>\n",
              "      <td>26830</td>\n",
              "      <td>1</td>\n",
              "      <td>35.26</td>\n",
              "      <td>-10.69</td>\n",
              "      <td>0.0</td>\n",
              "      <td>56</td>\n",
              "      <td>1</td>\n",
              "      <td>9</td>\n",
              "    </tr>\n",
              "    <tr>\n",
              "      <th>1</th>\n",
              "      <td>2012-01-02</td>\n",
              "      <td>135</td>\n",
              "      <td>26830</td>\n",
              "      <td>1</td>\n",
              "      <td>35.26</td>\n",
              "      <td>-10.69</td>\n",
              "      <td>0.0</td>\n",
              "      <td>56</td>\n",
              "      <td>1</td>\n",
              "      <td>9</td>\n",
              "    </tr>\n",
              "    <tr>\n",
              "      <th>2</th>\n",
              "      <td>2012-01-02</td>\n",
              "      <td>464</td>\n",
              "      <td>26830</td>\n",
              "      <td>1</td>\n",
              "      <td>35.26</td>\n",
              "      <td>-10.69</td>\n",
              "      <td>0.0</td>\n",
              "      <td>56</td>\n",
              "      <td>1</td>\n",
              "      <td>9</td>\n",
              "    </tr>\n",
              "    <tr>\n",
              "      <th>3</th>\n",
              "      <td>2012-01-12</td>\n",
              "      <td>1185</td>\n",
              "      <td>26830</td>\n",
              "      <td>1</td>\n",
              "      <td>45.95</td>\n",
              "      <td>0.00</td>\n",
              "      <td>0.0</td>\n",
              "      <td>56</td>\n",
              "      <td>1</td>\n",
              "      <td>9</td>\n",
              "    </tr>\n",
              "    <tr>\n",
              "      <th>4</th>\n",
              "      <td>2012-01-13</td>\n",
              "      <td>1140</td>\n",
              "      <td>26830</td>\n",
              "      <td>1</td>\n",
              "      <td>45.95</td>\n",
              "      <td>0.00</td>\n",
              "      <td>0.0</td>\n",
              "      <td>56</td>\n",
              "      <td>1</td>\n",
              "      <td>9</td>\n",
              "    </tr>\n",
              "  </tbody>\n",
              "</table>\n",
              "</div>"
            ],
            "text/plain": [
              "        date  customer_id  item_id  ...  brand  brand_type  category\n",
              "0 2012-01-02         1501    26830  ...     56           1         9\n",
              "1 2012-01-02          135    26830  ...     56           1         9\n",
              "2 2012-01-02          464    26830  ...     56           1         9\n",
              "3 2012-01-12         1185    26830  ...     56           1         9\n",
              "4 2012-01-13         1140    26830  ...     56           1         9\n",
              "\n",
              "[5 rows x 10 columns]"
            ]
          },
          "metadata": {
            "tags": []
          },
          "execution_count": 223
        }
      ]
    },
    {
      "cell_type": "code",
      "metadata": {
        "id": "-gsHjCzBPT6b",
        "colab_type": "code",
        "colab": {
          "base_uri": "https://localhost:8080/",
          "height": 245
        },
        "outputId": "5af7c1fb-1ac7-4c9f-f66b-50bc9e0a4a32"
      },
      "source": [
        "aggfunc = {\n",
        "    'date':num_unique, 'quantity':['sum','mean'], 'selling_price':['sum','mean'],\n",
        "    'other_discount':['sum','mean'], 'coupon_discount':['sum','mean']}\n",
        "customer_purchases = transaction_items.groupby('customer_id').agg(aggfunc).reset_index()\n",
        "customer_purchases.head()"
      ],
      "execution_count": 224,
      "outputs": [
        {
          "output_type": "stream",
          "text": [
            "ERROR! Session/line number was not unique in database. History logging moved to new session 61\n"
          ],
          "name": "stdout"
        },
        {
          "output_type": "execute_result",
          "data": {
            "text/html": [
              "<div>\n",
              "<style scoped>\n",
              "    .dataframe tbody tr th:only-of-type {\n",
              "        vertical-align: middle;\n",
              "    }\n",
              "\n",
              "    .dataframe tbody tr th {\n",
              "        vertical-align: top;\n",
              "    }\n",
              "\n",
              "    .dataframe thead tr th {\n",
              "        text-align: left;\n",
              "    }\n",
              "</style>\n",
              "<table border=\"1\" class=\"dataframe\">\n",
              "  <thead>\n",
              "    <tr>\n",
              "      <th></th>\n",
              "      <th>customer_id</th>\n",
              "      <th>date</th>\n",
              "      <th colspan=\"2\" halign=\"left\">quantity</th>\n",
              "      <th colspan=\"2\" halign=\"left\">selling_price</th>\n",
              "      <th colspan=\"2\" halign=\"left\">other_discount</th>\n",
              "      <th colspan=\"2\" halign=\"left\">coupon_discount</th>\n",
              "    </tr>\n",
              "    <tr>\n",
              "      <th></th>\n",
              "      <th></th>\n",
              "      <th>nunique</th>\n",
              "      <th>sum</th>\n",
              "      <th>mean</th>\n",
              "      <th>sum</th>\n",
              "      <th>mean</th>\n",
              "      <th>sum</th>\n",
              "      <th>mean</th>\n",
              "      <th>sum</th>\n",
              "      <th>mean</th>\n",
              "    </tr>\n",
              "  </thead>\n",
              "  <tbody>\n",
              "    <tr>\n",
              "      <th>0</th>\n",
              "      <td>1</td>\n",
              "      <td>56</td>\n",
              "      <td>1227</td>\n",
              "      <td>1.170802</td>\n",
              "      <td>98513.93</td>\n",
              "      <td>94.001842</td>\n",
              "      <td>-17030.40</td>\n",
              "      <td>-16.250382</td>\n",
              "      <td>-2116.83</td>\n",
              "      <td>-2.019876</td>\n",
              "    </tr>\n",
              "    <tr>\n",
              "      <th>1</th>\n",
              "      <td>2</td>\n",
              "      <td>37</td>\n",
              "      <td>474</td>\n",
              "      <td>1.131265</td>\n",
              "      <td>43100.03</td>\n",
              "      <td>102.864033</td>\n",
              "      <td>-7051.95</td>\n",
              "      <td>-16.830430</td>\n",
              "      <td>-249.34</td>\n",
              "      <td>-0.595084</td>\n",
              "    </tr>\n",
              "    <tr>\n",
              "      <th>2</th>\n",
              "      <td>3</td>\n",
              "      <td>41</td>\n",
              "      <td>8163</td>\n",
              "      <td>11.578723</td>\n",
              "      <td>73050.27</td>\n",
              "      <td>103.617404</td>\n",
              "      <td>-16013.53</td>\n",
              "      <td>-22.714227</td>\n",
              "      <td>-2179.54</td>\n",
              "      <td>-3.091546</td>\n",
              "    </tr>\n",
              "    <tr>\n",
              "      <th>3</th>\n",
              "      <td>4</td>\n",
              "      <td>26</td>\n",
              "      <td>280</td>\n",
              "      <td>1.272727</td>\n",
              "      <td>33973.22</td>\n",
              "      <td>154.423727</td>\n",
              "      <td>-2927.19</td>\n",
              "      <td>-13.305409</td>\n",
              "      <td>-89.05</td>\n",
              "      <td>-0.404773</td>\n",
              "    </tr>\n",
              "    <tr>\n",
              "      <th>4</th>\n",
              "      <td>5</td>\n",
              "      <td>163</td>\n",
              "      <td>93353</td>\n",
              "      <td>117.869949</td>\n",
              "      <td>103615.10</td>\n",
              "      <td>130.827146</td>\n",
              "      <td>-10817.07</td>\n",
              "      <td>-13.657917</td>\n",
              "      <td>-90.83</td>\n",
              "      <td>-0.114684</td>\n",
              "    </tr>\n",
              "  </tbody>\n",
              "</table>\n",
              "</div>"
            ],
            "text/plain": [
              "  customer_id    date quantity  ... other_discount coupon_discount          \n",
              "              nunique      sum  ...           mean             sum      mean\n",
              "0           1      56     1227  ...     -16.250382        -2116.83 -2.019876\n",
              "1           2      37      474  ...     -16.830430         -249.34 -0.595084\n",
              "2           3      41     8163  ...     -22.714227        -2179.54 -3.091546\n",
              "3           4      26      280  ...     -13.305409          -89.05 -0.404773\n",
              "4           5     163    93353  ...     -13.657917          -90.83 -0.114684\n",
              "\n",
              "[5 rows x 10 columns]"
            ]
          },
          "metadata": {
            "tags": []
          },
          "execution_count": 224
        }
      ]
    },
    {
      "cell_type": "code",
      "metadata": {
        "id": "o3Ozh-TgPeft",
        "colab_type": "code",
        "colab": {
          "base_uri": "https://localhost:8080/",
          "height": 197
        },
        "outputId": "6c2ba5d9-bad8-4356-aced-1f480aaf8b53"
      },
      "source": [
        "customer_purchases.columns = ['customer_id', 'date_nunique', 'quantity_sum', 'quantity_mean', \n",
        "                          'selling_price_sum', 'selling_price_mean', 'other_discount_sum', 'other_discount_mean',\n",
        "                          'coupon_discount_sum', 'coupon_discount_mean']\n",
        "customer_purchases.head()"
      ],
      "execution_count": 226,
      "outputs": [
        {
          "output_type": "execute_result",
          "data": {
            "text/html": [
              "<div>\n",
              "<style scoped>\n",
              "    .dataframe tbody tr th:only-of-type {\n",
              "        vertical-align: middle;\n",
              "    }\n",
              "\n",
              "    .dataframe tbody tr th {\n",
              "        vertical-align: top;\n",
              "    }\n",
              "\n",
              "    .dataframe thead th {\n",
              "        text-align: right;\n",
              "    }\n",
              "</style>\n",
              "<table border=\"1\" class=\"dataframe\">\n",
              "  <thead>\n",
              "    <tr style=\"text-align: right;\">\n",
              "      <th></th>\n",
              "      <th>customer_id</th>\n",
              "      <th>date_nunique</th>\n",
              "      <th>quantity_sum</th>\n",
              "      <th>quantity_mean</th>\n",
              "      <th>selling_price_sum</th>\n",
              "      <th>selling_price_mean</th>\n",
              "      <th>other_discount_sum</th>\n",
              "      <th>other_discount_mean</th>\n",
              "      <th>coupon_discount_sum</th>\n",
              "      <th>coupon_discount_mean</th>\n",
              "    </tr>\n",
              "  </thead>\n",
              "  <tbody>\n",
              "    <tr>\n",
              "      <th>0</th>\n",
              "      <td>1</td>\n",
              "      <td>56</td>\n",
              "      <td>1227</td>\n",
              "      <td>1.170802</td>\n",
              "      <td>98513.93</td>\n",
              "      <td>94.001842</td>\n",
              "      <td>-17030.40</td>\n",
              "      <td>-16.250382</td>\n",
              "      <td>-2116.83</td>\n",
              "      <td>-2.019876</td>\n",
              "    </tr>\n",
              "    <tr>\n",
              "      <th>1</th>\n",
              "      <td>2</td>\n",
              "      <td>37</td>\n",
              "      <td>474</td>\n",
              "      <td>1.131265</td>\n",
              "      <td>43100.03</td>\n",
              "      <td>102.864033</td>\n",
              "      <td>-7051.95</td>\n",
              "      <td>-16.830430</td>\n",
              "      <td>-249.34</td>\n",
              "      <td>-0.595084</td>\n",
              "    </tr>\n",
              "    <tr>\n",
              "      <th>2</th>\n",
              "      <td>3</td>\n",
              "      <td>41</td>\n",
              "      <td>8163</td>\n",
              "      <td>11.578723</td>\n",
              "      <td>73050.27</td>\n",
              "      <td>103.617404</td>\n",
              "      <td>-16013.53</td>\n",
              "      <td>-22.714227</td>\n",
              "      <td>-2179.54</td>\n",
              "      <td>-3.091546</td>\n",
              "    </tr>\n",
              "    <tr>\n",
              "      <th>3</th>\n",
              "      <td>4</td>\n",
              "      <td>26</td>\n",
              "      <td>280</td>\n",
              "      <td>1.272727</td>\n",
              "      <td>33973.22</td>\n",
              "      <td>154.423727</td>\n",
              "      <td>-2927.19</td>\n",
              "      <td>-13.305409</td>\n",
              "      <td>-89.05</td>\n",
              "      <td>-0.404773</td>\n",
              "    </tr>\n",
              "    <tr>\n",
              "      <th>4</th>\n",
              "      <td>5</td>\n",
              "      <td>163</td>\n",
              "      <td>93353</td>\n",
              "      <td>117.869949</td>\n",
              "      <td>103615.10</td>\n",
              "      <td>130.827146</td>\n",
              "      <td>-10817.07</td>\n",
              "      <td>-13.657917</td>\n",
              "      <td>-90.83</td>\n",
              "      <td>-0.114684</td>\n",
              "    </tr>\n",
              "  </tbody>\n",
              "</table>\n",
              "</div>"
            ],
            "text/plain": [
              "   customer_id  date_nunique  ...  coupon_discount_sum  coupon_discount_mean\n",
              "0            1            56  ...             -2116.83             -2.019876\n",
              "1            2            37  ...              -249.34             -0.595084\n",
              "2            3            41  ...             -2179.54             -3.091546\n",
              "3            4            26  ...               -89.05             -0.404773\n",
              "4            5           163  ...               -90.83             -0.114684\n",
              "\n",
              "[5 rows x 10 columns]"
            ]
          },
          "metadata": {
            "tags": []
          },
          "execution_count": 226
        }
      ]
    },
    {
      "cell_type": "code",
      "metadata": {
        "id": "8JMWpKDbPlx5",
        "colab_type": "code",
        "colab": {
          "base_uri": "https://localhost:8080/",
          "height": 105
        },
        "outputId": "7e0fab31-7bfa-4c90-9781-402c98a9726f"
      },
      "source": [
        "\n",
        "print('Number of unique customer_id in all the tables:')\n",
        "print('Train :', train['customer_id'].nunique())\n",
        "print('Test :', test['customer_id'].nunique())\n",
        "print('Transactions :', transactions['customer_id'].nunique())\n",
        "print('Demographics :', customer_demographics['customer_id'].nunique())"
      ],
      "execution_count": 228,
      "outputs": [
        {
          "output_type": "stream",
          "text": [
            "Number of unique customer_id in all the tables:\n",
            "Train : 1428\n",
            "Test : 1250\n",
            "Transactions : 1582\n",
            "Demographics : 760\n"
          ],
          "name": "stdout"
        }
      ]
    },
    {
      "cell_type": "code",
      "metadata": {
        "id": "JqhEL6ArP4EO",
        "colab_type": "code",
        "colab": {
          "base_uri": "https://localhost:8080/",
          "height": 34
        },
        "outputId": "74bbd5e4-82c3-4bac-fcc2-e98616c2482b"
      },
      "source": [
        "mtrain = pd.merge(train, campaign_features, on='campaign_id', how='left')\n",
        "mtrain = pd.merge(mtrain, coupons, on='coupon_id', how='left')\n",
        "mtrain = pd.merge(mtrain, customer_purchases, on='customer_id', how='left')\n",
        "mtrain.shape"
      ],
      "execution_count": 229,
      "outputs": [
        {
          "output_type": "execute_result",
          "data": {
            "text/plain": [
              "(78369, 22)"
            ]
          },
          "metadata": {
            "tags": []
          },
          "execution_count": 229
        }
      ]
    },
    {
      "cell_type": "code",
      "metadata": {
        "id": "YAIiG5F8QVVZ",
        "colab_type": "code",
        "colab": {
          "base_uri": "https://localhost:8080/",
          "height": 34
        },
        "outputId": "75b8f182-e228-41f0-ae63-9e87d8f32455"
      },
      "source": [
        "mtest = pd.merge(test, campaign_features, on='campaign_id', how='left')\n",
        "mtest = pd.merge(mtest, coupons, on='coupon_id', how='left')\n",
        "mtest = pd.merge(mtest, customer_purchases, on='customer_id', how='left')\n",
        "mtest.shape"
      ],
      "execution_count": 230,
      "outputs": [
        {
          "output_type": "execute_result",
          "data": {
            "text/plain": [
              "(50226, 21)"
            ]
          },
          "metadata": {
            "tags": []
          },
          "execution_count": 230
        }
      ]
    },
    {
      "cell_type": "code",
      "metadata": {
        "id": "ulsXb1IKQdOt",
        "colab_type": "code",
        "colab": {}
      },
      "source": [
        "drop_ids = ['id','campaign_id','coupon_id','customer_id']\n",
        "mtrain.drop(drop_ids,axis=1,inplace=True)\n",
        "mtest.drop(drop_ids,axis=1,inplace=True)"
      ],
      "execution_count": 0,
      "outputs": []
    },
    {
      "cell_type": "code",
      "metadata": {
        "id": "7gLi5x-FQ9Pk",
        "colab_type": "code",
        "colab": {}
      },
      "source": [
        "x = mtrain.drop('redemption_status',axis=1)\n",
        "y = mtrain['redemption_status']"
      ],
      "execution_count": 0,
      "outputs": []
    },
    {
      "cell_type": "code",
      "metadata": {
        "id": "iPw6D5DmRGQf",
        "colab_type": "code",
        "colab": {
          "base_uri": "https://localhost:8080/",
          "height": 280
        },
        "outputId": "337a505e-f689-4254-ffa5-da94d0498ca0"
      },
      "source": [
        "sns.countplot(y)\n",
        "plt.show()"
      ],
      "execution_count": 233,
      "outputs": [
        {
          "output_type": "display_data",
          "data": {
            "image/png": "[encoded data removed]",
            "text/plain": [
              "<Figure size 432x288 with 1 Axes>"
            ]
          },
          "metadata": {
            "tags": []
          }
        }
      ]
    },
    {
      "cell_type": "code",
      "metadata": {
        "id": "oTN7Vu3MROEG",
        "colab_type": "code",
        "colab": {}
      },
      "source": [
        "from sklearn.model_selection import train_test_split\n",
        "xtrain,xtest,ytrain,ytest = train_test_split(x,y,test_size=0.25,random_state=1)"
      ],
      "execution_count": 0,
      "outputs": []
    },
    {
      "cell_type": "code",
      "metadata": {
        "id": "M9-xoViTRZE9",
        "colab_type": "code",
        "colab": {}
      },
      "source": [
        "from sklearn.model_selection import cross_val_score, GridSearchCV\n",
        "from sklearn.metrics import confusion_matrix, roc_curve,roc_auc_score\n",
        "\n",
        "def disp_confusion_matrix(model, x, y):\n",
        "    ypred = model.predict(x)\n",
        "    cm = confusion_matrix(y,ypred)\n",
        "    ax = sns.heatmap(cm,annot=True,fmt='d')\n",
        "\n",
        "    ax.set_xlabel('Predicted labels')\n",
        "    ax.set_ylabel('True Labels')\n",
        "    ax.set_title('Confusion Matrix')\n",
        "    plt.show()\n",
        "    \n",
        "    tp = cm[1,1]\n",
        "    fn = cm[1,0]\n",
        "    fp = cm[0,1]\n",
        "    tn = cm[0,0]\n",
        "    accuracy = (tp+tn)/(tp+fn+fp+tn)\n",
        "    precision = tp/(tp+fp)\n",
        "    recall = tp/(tp+fn)\n",
        "    f1 = (2*precision*recall)/(precision+recall)\n",
        "    print('Accuracy =',accuracy)\n",
        "    print('Precision =',precision)\n",
        "    print('Recall =',recall)\n",
        "    print('F1 Score =',f1)\n",
        "\n",
        "def disp_roc_curve(model, xtest, ytest):\n",
        "    yprob = model.predict_proba(xtest)\n",
        "    fpr,tpr,threshold = roc_curve(ytest,yprob[:,1])\n",
        "    roc_auc = roc_auc_score(ytest,yprob[:,1])\n",
        "\n",
        "    print('ROC AUC =', roc_auc)\n",
        "    plt.figure()\n",
        "    lw = 2\n",
        "    plt.plot(fpr,tpr,color='darkorange',lw=lw,label='ROC Curve (area = %0.2f)'%roc_auc)\n",
        "    plt.plot([0,1],[0,1],color='navy',lw=lw,linestyle='--')\n",
        "    plt.xlim([0.0, 1.0])\n",
        "    plt.ylim([0.0, 1.05])\n",
        "    plt.xlabel('FPR')\n",
        "    plt.ylabel('TPR')\n",
        "    plt.title('ROC Curve')\n",
        "    plt.legend(loc='lower right')\n",
        "    plt.show()"
      ],
      "execution_count": 0,
      "outputs": []
    },
    {
      "cell_type": "markdown",
      "metadata": {
        "id": "0-sc_-SeR9rO",
        "colab_type": "text"
      },
      "source": [
        "Logistic Regression"
      ]
    },
    {
      "cell_type": "code",
      "metadata": {
        "id": "2_NcLvLdR61Z",
        "colab_type": "code",
        "colab": {
          "base_uri": "https://localhost:8080/",
          "height": 194
        },
        "outputId": "2f6bd064-e84c-4d6f-c466-2c97067d4c2d"
      },
      "source": [
        "from sklearn.linear_model import LogisticRegression\n",
        "\n",
        "logreg = LogisticRegression()\n",
        "logreg.fit(xtrain,ytrain)\n",
        "print(f'Training set score = {logreg.score(xtrain,ytrain)}')\n",
        "print(f'Test set score = {logreg.score(xtest,ytest)}')"
      ],
      "execution_count": 241,
      "outputs": [
        {
          "output_type": "stream",
          "text": [
            "Training set score = 0.9905233428610317\n",
            "Test set score = 0.9901495432042056\n"
          ],
          "name": "stdout"
        },
        {
          "output_type": "stream",
          "text": [
            "/usr/local/lib/python3.6/dist-packages/sklearn/linear_model/_logistic.py:940: ConvergenceWarning: lbfgs failed to converge (status=1):\n",
            "STOP: TOTAL NO. of ITERATIONS REACHED LIMIT.\n",
            "\n",
            "Increase the number of iterations (max_iter) or scale the data as shown in:\n",
            "    https://scikit-learn.org/stable/modules/preprocessing.html\n",
            "Please also refer to the documentation for alternative solver options:\n",
            "    https://scikit-learn.org/stable/modules/linear_model.html#logistic-regression\n",
            "  extra_warning_msg=_LOGISTIC_SOLVER_CONVERGENCE_MSG)\n"
          ],
          "name": "stderr"
        }
      ]
    },
    {
      "cell_type": "code",
      "metadata": {
        "id": "HszyELSpRq2y",
        "colab_type": "code",
        "colab": {
          "base_uri": "https://localhost:8080/",
          "height": 680
        },
        "outputId": "1a2054b6-e331-4fe2-8ccf-9586124fb077"
      },
      "source": [
        "disp_confusion_matrix(logreg, xtest, ytest)\n",
        "disp_roc_curve(logreg, xtest, ytest)"
      ],
      "execution_count": 242,
      "outputs": [
        {
          "output_type": "display_data",
          "data": {
            "image/png": "[encoded data removed]",
            "text/plain": [
              "<Figure size 432x288 with 2 Axes>"
            ]
          },
          "metadata": {
            "tags": []
          }
        },
        {
          "output_type": "stream",
          "text": [
            "/usr/local/lib/python3.6/dist-packages/ipykernel_launcher.py:21: RuntimeWarning: invalid value encountered in double_scalars\n"
          ],
          "name": "stderr"
        },
        {
          "output_type": "stream",
          "text": [
            "Accuracy = 0.9901495432042056\n",
            "Precision = 0.0\n",
            "Recall = 0.0\n",
            "F1 Score = nan\n",
            "ROC AUC = 0.4446340365163282\n"
          ],
          "name": "stdout"
        },
        {
          "output_type": "display_data",
          "data": {
            "image/png": "[encoded data removed]",
            "text/plain": [
              "<Figure size 432x288 with 1 Axes>"
            ]
          },
          "metadata": {
            "tags": []
          }
        }
      ]
    },
    {
      "cell_type": "markdown",
      "metadata": {
        "id": "b0iyfRBvTyTj",
        "colab_type": "text"
      },
      "source": [
        "Random Forest\n"
      ]
    },
    {
      "cell_type": "code",
      "metadata": {
        "id": "63brS4JQTUHx",
        "colab_type": "code",
        "colab": {
          "base_uri": "https://localhost:8080/",
          "height": 52
        },
        "outputId": "1b2c53eb-7744-448f-98d3-86027c2f6615"
      },
      "source": [
        "from sklearn.ensemble import RandomForestClassifier\n",
        "rf = RandomForestClassifier()\n",
        "rf.fit(xtrain, ytrain)\n",
        "print('Training set score = {:.3f}'.format(rf.score(xtrain,ytrain)))\n",
        "print('Test set score = {:.3f}'.format(rf.score(xtest,ytest)))"
      ],
      "execution_count": 243,
      "outputs": [
        {
          "output_type": "stream",
          "text": [
            "Training set score = 0.999\n",
            "Test set score = 0.988\n"
          ],
          "name": "stdout"
        }
      ]
    },
    {
      "cell_type": "code",
      "metadata": {
        "id": "dagAMIVyT1on",
        "colab_type": "code",
        "colab": {
          "base_uri": "https://localhost:8080/",
          "height": 662
        },
        "outputId": "4d811794-6763-4101-f448-de2e0e4ef26c"
      },
      "source": [
        "disp_confusion_matrix(rf, xtest, ytest)\n",
        "disp_roc_curve(rf, xtest, ytest)"
      ],
      "execution_count": 245,
      "outputs": [
        {
          "output_type": "display_data",
          "data": {
            "image/png": "[encoded data removed]",
            "text/plain": [
              "<Figure size 432x288 with 2 Axes>"
            ]
          },
          "metadata": {
            "tags": []
          }
        },
        {
          "output_type": "stream",
          "text": [
            "Accuracy = 0.9881590363905477\n",
            "Precision = 0.26136363636363635\n",
            "Recall = 0.12105263157894737\n",
            "F1 Score = 0.16546762589928057\n",
            "ROC AUC = 0.8312634779754623\n"
          ],
          "name": "stdout"
        },
        {
          "output_type": "display_data",
          "data": {
            "image/png": "[encoded data removed]",
            "text/plain": [
              "<Figure size 432x288 with 1 Axes>"
            ]
          },
          "metadata": {
            "tags": []
          }
        }
      ]
    },
    {
      "cell_type": "code",
      "metadata": {
        "id": "U2Y1H7eST6KI",
        "colab_type": "code",
        "colab": {
          "base_uri": "https://localhost:8080/",
          "height": 557
        },
        "outputId": "21a53a9f-c0bb-4808-a2b5-0cec2aa86f35"
      },
      "source": [
        "pd.DataFrame({'Features':x.columns, 'Importance':rf.feature_importances_}).sort_values(by='Importance',ascending=False)"
      ],
      "execution_count": 246,
      "outputs": [
        {
          "output_type": "execute_result",
          "data": {
            "text/html": [
              "<div>\n",
              "<style scoped>\n",
              "    .dataframe tbody tr th:only-of-type {\n",
              "        vertical-align: middle;\n",
              "    }\n",
              "\n",
              "    .dataframe tbody tr th {\n",
              "        vertical-align: top;\n",
              "    }\n",
              "\n",
              "    .dataframe thead th {\n",
              "        text-align: right;\n",
              "    }\n",
              "</style>\n",
              "<table border=\"1\" class=\"dataframe\">\n",
              "  <thead>\n",
              "    <tr style=\"text-align: right;\">\n",
              "      <th></th>\n",
              "      <th>Features</th>\n",
              "      <th>Importance</th>\n",
              "    </tr>\n",
              "  </thead>\n",
              "  <tbody>\n",
              "    <tr>\n",
              "      <th>4</th>\n",
              "      <td>coupon_item_nunique</td>\n",
              "      <td>0.412837</td>\n",
              "    </tr>\n",
              "    <tr>\n",
              "      <th>15</th>\n",
              "      <td>coupon_discount_sum</td>\n",
              "      <td>0.059472</td>\n",
              "    </tr>\n",
              "    <tr>\n",
              "      <th>16</th>\n",
              "      <td>coupon_discount_mean</td>\n",
              "      <td>0.047073</td>\n",
              "    </tr>\n",
              "    <tr>\n",
              "      <th>5</th>\n",
              "      <td>coupon_brand_nunique</td>\n",
              "      <td>0.045714</td>\n",
              "    </tr>\n",
              "    <tr>\n",
              "      <th>12</th>\n",
              "      <td>selling_price_mean</td>\n",
              "      <td>0.041193</td>\n",
              "    </tr>\n",
              "    <tr>\n",
              "      <th>11</th>\n",
              "      <td>selling_price_sum</td>\n",
              "      <td>0.039578</td>\n",
              "    </tr>\n",
              "    <tr>\n",
              "      <th>13</th>\n",
              "      <td>other_discount_sum</td>\n",
              "      <td>0.039492</td>\n",
              "    </tr>\n",
              "    <tr>\n",
              "      <th>8</th>\n",
              "      <td>date_nunique</td>\n",
              "      <td>0.039086</td>\n",
              "    </tr>\n",
              "    <tr>\n",
              "      <th>10</th>\n",
              "      <td>quantity_mean</td>\n",
              "      <td>0.038505</td>\n",
              "    </tr>\n",
              "    <tr>\n",
              "      <th>9</th>\n",
              "      <td>quantity_sum</td>\n",
              "      <td>0.038256</td>\n",
              "    </tr>\n",
              "    <tr>\n",
              "      <th>14</th>\n",
              "      <td>other_discount_mean</td>\n",
              "      <td>0.037150</td>\n",
              "    </tr>\n",
              "    <tr>\n",
              "      <th>3</th>\n",
              "      <td>customers_nunique</td>\n",
              "      <td>0.036080</td>\n",
              "    </tr>\n",
              "    <tr>\n",
              "      <th>2</th>\n",
              "      <td>coupons_nunique</td>\n",
              "      <td>0.032568</td>\n",
              "    </tr>\n",
              "    <tr>\n",
              "      <th>7</th>\n",
              "      <td>coupon_established_mean</td>\n",
              "      <td>0.031071</td>\n",
              "    </tr>\n",
              "    <tr>\n",
              "      <th>1</th>\n",
              "      <td>campaign_duration</td>\n",
              "      <td>0.028919</td>\n",
              "    </tr>\n",
              "    <tr>\n",
              "      <th>6</th>\n",
              "      <td>coupon_category_nunique</td>\n",
              "      <td>0.027463</td>\n",
              "    </tr>\n",
              "    <tr>\n",
              "      <th>0</th>\n",
              "      <td>campaign_type</td>\n",
              "      <td>0.005543</td>\n",
              "    </tr>\n",
              "  </tbody>\n",
              "</table>\n",
              "</div>"
            ],
            "text/plain": [
              "                   Features  Importance\n",
              "4       coupon_item_nunique    0.412837\n",
              "15      coupon_discount_sum    0.059472\n",
              "16     coupon_discount_mean    0.047073\n",
              "5      coupon_brand_nunique    0.045714\n",
              "12       selling_price_mean    0.041193\n",
              "11        selling_price_sum    0.039578\n",
              "13       other_discount_sum    0.039492\n",
              "8              date_nunique    0.039086\n",
              "10            quantity_mean    0.038505\n",
              "9              quantity_sum    0.038256\n",
              "14      other_discount_mean    0.037150\n",
              "3         customers_nunique    0.036080\n",
              "2           coupons_nunique    0.032568\n",
              "7   coupon_established_mean    0.031071\n",
              "1         campaign_duration    0.028919\n",
              "6   coupon_category_nunique    0.027463\n",
              "0             campaign_type    0.005543"
            ]
          },
          "metadata": {
            "tags": []
          },
          "execution_count": 246
        }
      ]
    },
    {
      "cell_type": "code",
      "metadata": {
        "id": "-GyywBrnUI-E",
        "colab_type": "code",
        "colab": {}
      },
      "source": [
        "rf.fit(x,y)\n",
        "test_prob = rf.predict_proba(mtest)[:,1]\n",
        "df_rf = pd.DataFrame({'id':test_ids,'redemption_status':test_prob})"
      ],
      "execution_count": 0,
      "outputs": []
    },
    {
      "cell_type": "code",
      "metadata": {
        "id": "Vs2M7C4bUtUw",
        "colab_type": "code",
        "colab": {
          "base_uri": "https://localhost:8080/",
          "height": 197
        },
        "outputId": "c80063bd-b069-41d5-e764-12afada52033"
      },
      "source": [
        "df_rf.head()"
      ],
      "execution_count": 251,
      "outputs": [
        {
          "output_type": "execute_result",
          "data": {
            "text/html": [
              "<div>\n",
              "<style scoped>\n",
              "    .dataframe tbody tr th:only-of-type {\n",
              "        vertical-align: middle;\n",
              "    }\n",
              "\n",
              "    .dataframe tbody tr th {\n",
              "        vertical-align: top;\n",
              "    }\n",
              "\n",
              "    .dataframe thead th {\n",
              "        text-align: right;\n",
              "    }\n",
              "</style>\n",
              "<table border=\"1\" class=\"dataframe\">\n",
              "  <thead>\n",
              "    <tr style=\"text-align: right;\">\n",
              "      <th></th>\n",
              "      <th>id</th>\n",
              "      <th>redemption_status</th>\n",
              "    </tr>\n",
              "  </thead>\n",
              "  <tbody>\n",
              "    <tr>\n",
              "      <th>0</th>\n",
              "      <td>3</td>\n",
              "      <td>0.01</td>\n",
              "    </tr>\n",
              "    <tr>\n",
              "      <th>1</th>\n",
              "      <td>4</td>\n",
              "      <td>0.02</td>\n",
              "    </tr>\n",
              "    <tr>\n",
              "      <th>2</th>\n",
              "      <td>5</td>\n",
              "      <td>0.00</td>\n",
              "    </tr>\n",
              "    <tr>\n",
              "      <th>3</th>\n",
              "      <td>8</td>\n",
              "      <td>0.00</td>\n",
              "    </tr>\n",
              "    <tr>\n",
              "      <th>4</th>\n",
              "      <td>10</td>\n",
              "      <td>0.00</td>\n",
              "    </tr>\n",
              "  </tbody>\n",
              "</table>\n",
              "</div>"
            ],
            "text/plain": [
              "   id  redemption_status\n",
              "0   3               0.01\n",
              "1   4               0.02\n",
              "2   5               0.00\n",
              "3   8               0.00\n",
              "4  10               0.00"
            ]
          },
          "metadata": {
            "tags": []
          },
          "execution_count": 251
        }
      ]
    },
    {
      "cell_type": "code",
      "metadata": {
        "id": "JsXn60o8UwPX",
        "colab_type": "code",
        "colab": {}
      },
      "source": [
        ""
      ],
      "execution_count": 0,
      "outputs": []
    }
  ]
}